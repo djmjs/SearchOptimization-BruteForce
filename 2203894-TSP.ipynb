{
 "cells": [
  {
   "cell_type": "markdown",
   "id": "9e2d6d8d",
   "metadata": {},
   "source": [
    "# TRAVELLING SALESMAN PROBLEM"
   ]
  },
  {
   "cell_type": "markdown",
   "id": "028738e8",
   "metadata": {},
   "source": [
    "# Import The Data"
   ]
  },
  {
   "cell_type": "code",
   "execution_count": 1,
   "id": "ad5f1316",
   "metadata": {},
   "outputs": [],
   "source": [
    "import pandas as pd\n",
    "import numpy as np\n",
    "from sys import maxsize\n",
    "from itertools import permutations"
   ]
  },
  {
   "cell_type": "code",
   "execution_count": 2,
   "id": "82683d7b",
   "metadata": {
    "scrolled": true
   },
   "outputs": [],
   "source": [
    "data= pd.read_csv('problem_a.csv')\n",
    "#reading csv file."
   ]
  },
  {
   "cell_type": "code",
   "execution_count": 3,
   "id": "86cfb786",
   "metadata": {},
   "outputs": [
    {
     "data": {
      "text/html": [
       "<div>\n",
       "<style scoped>\n",
       "    .dataframe tbody tr th:only-of-type {\n",
       "        vertical-align: middle;\n",
       "    }\n",
       "\n",
       "    .dataframe tbody tr th {\n",
       "        vertical-align: top;\n",
       "    }\n",
       "\n",
       "    .dataframe thead th {\n",
       "        text-align: right;\n",
       "    }\n",
       "</style>\n",
       "<table border=\"1\" class=\"dataframe\">\n",
       "  <thead>\n",
       "    <tr style=\"text-align: right;\">\n",
       "      <th></th>\n",
       "      <th>London</th>\n",
       "      <th>Birmingham</th>\n",
       "      <th>Leeds</th>\n",
       "      <th>Sheffield</th>\n",
       "      <th>Bradford</th>\n",
       "      <th>Liverpool</th>\n",
       "      <th>Manchester</th>\n",
       "      <th>Bristol</th>\n",
       "    </tr>\n",
       "    <tr>\n",
       "      <th>X</th>\n",
       "      <th></th>\n",
       "      <th></th>\n",
       "      <th></th>\n",
       "      <th></th>\n",
       "      <th></th>\n",
       "      <th></th>\n",
       "      <th></th>\n",
       "      <th></th>\n",
       "    </tr>\n",
       "  </thead>\n",
       "  <tbody>\n",
       "    <tr>\n",
       "      <th>London</th>\n",
       "      <td>0</td>\n",
       "      <td>118</td>\n",
       "      <td>200</td>\n",
       "      <td>167</td>\n",
       "      <td>207</td>\n",
       "      <td>211</td>\n",
       "      <td>199</td>\n",
       "      <td>119</td>\n",
       "    </tr>\n",
       "    <tr>\n",
       "      <th>Birmingham</th>\n",
       "      <td>118</td>\n",
       "      <td>0</td>\n",
       "      <td>124</td>\n",
       "      <td>90</td>\n",
       "      <td>129</td>\n",
       "      <td>98</td>\n",
       "      <td>86</td>\n",
       "      <td>88</td>\n",
       "    </tr>\n",
       "    <tr>\n",
       "      <th>Leeds</th>\n",
       "      <td>200</td>\n",
       "      <td>124</td>\n",
       "      <td>0</td>\n",
       "      <td>40</td>\n",
       "      <td>10</td>\n",
       "      <td>72</td>\n",
       "      <td>44</td>\n",
       "      <td>208</td>\n",
       "    </tr>\n",
       "    <tr>\n",
       "      <th>Sheffield</th>\n",
       "      <td>167</td>\n",
       "      <td>90</td>\n",
       "      <td>40</td>\n",
       "      <td>0</td>\n",
       "      <td>48</td>\n",
       "      <td>78</td>\n",
       "      <td>78</td>\n",
       "      <td>180</td>\n",
       "    </tr>\n",
       "    <tr>\n",
       "      <th>Bradford</th>\n",
       "      <td>207</td>\n",
       "      <td>129</td>\n",
       "      <td>10</td>\n",
       "      <td>48</td>\n",
       "      <td>0</td>\n",
       "      <td>67</td>\n",
       "      <td>39</td>\n",
       "      <td>165</td>\n",
       "    </tr>\n",
       "    <tr>\n",
       "      <th>Liverpool</th>\n",
       "      <td>211</td>\n",
       "      <td>98</td>\n",
       "      <td>72</td>\n",
       "      <td>78</td>\n",
       "      <td>67</td>\n",
       "      <td>0</td>\n",
       "      <td>34</td>\n",
       "      <td>181</td>\n",
       "    </tr>\n",
       "    <tr>\n",
       "      <th>Manchester</th>\n",
       "      <td>199</td>\n",
       "      <td>86</td>\n",
       "      <td>44</td>\n",
       "      <td>78</td>\n",
       "      <td>39</td>\n",
       "      <td>34</td>\n",
       "      <td>0</td>\n",
       "      <td>168</td>\n",
       "    </tr>\n",
       "    <tr>\n",
       "      <th>Bristol</th>\n",
       "      <td>119</td>\n",
       "      <td>88</td>\n",
       "      <td>208</td>\n",
       "      <td>180</td>\n",
       "      <td>165</td>\n",
       "      <td>181</td>\n",
       "      <td>168</td>\n",
       "      <td>0</td>\n",
       "    </tr>\n",
       "  </tbody>\n",
       "</table>\n",
       "</div>"
      ],
      "text/plain": [
       "            London  Birmingham  Leeds  Sheffield  Bradford  Liverpool  \\\n",
       "X                                                                       \n",
       "London           0         118    200        167       207        211   \n",
       "Birmingham     118           0    124         90       129         98   \n",
       "Leeds          200         124      0         40        10         72   \n",
       "Sheffield      167          90     40          0        48         78   \n",
       "Bradford       207         129     10         48         0         67   \n",
       "Liverpool      211          98     72         78        67          0   \n",
       "Manchester     199          86     44         78        39         34   \n",
       "Bristol        119          88    208        180       165        181   \n",
       "\n",
       "            Manchester  Bristol  \n",
       "X                                \n",
       "London             199      119  \n",
       "Birmingham          86       88  \n",
       "Leeds               44      208  \n",
       "Sheffield           78      180  \n",
       "Bradford            39      165  \n",
       "Liverpool           34      181  \n",
       "Manchester           0      168  \n",
       "Bristol            168        0  "
      ]
     },
     "execution_count": 3,
     "metadata": {},
     "output_type": "execute_result"
    }
   ],
   "source": [
    "df2 = data.set_index(\"X\")\n",
    "df2"
   ]
  },
  {
   "cell_type": "code",
   "execution_count": 4,
   "id": "ee350a42",
   "metadata": {},
   "outputs": [
    {
     "data": {
      "text/plain": [
       "'London'"
      ]
     },
     "execution_count": 4,
     "metadata": {},
     "output_type": "execute_result"
    }
   ],
   "source": [
    "cities=list(df2.columns)\n",
    "cities[0]"
   ]
  },
  {
   "cell_type": "code",
   "execution_count": 5,
   "id": "32802f61",
   "metadata": {},
   "outputs": [
    {
     "data": {
      "text/plain": [
       "8"
      ]
     },
     "execution_count": 5,
     "metadata": {},
     "output_type": "execute_result"
    }
   ],
   "source": [
    "len(df2)"
   ]
  },
  {
   "cell_type": "code",
   "execution_count": 6,
   "id": "b644d15f",
   "metadata": {},
   "outputs": [
    {
     "data": {
      "text/plain": [
       "124"
      ]
     },
     "execution_count": 6,
     "metadata": {},
     "output_type": "execute_result"
    }
   ],
   "source": [
    "df2.iloc[2,1]"
   ]
  },
  {
   "cell_type": "code",
   "execution_count": null,
   "id": "d6c73c60",
   "metadata": {},
   "outputs": [],
   "source": [
    "#cities = [\"London\",\"Birmingham\",\"Leeds\",\"Sheffield\",\"Bradford\",\"Liverpool\",\"Manchester\",\"Bristol\"]"
   ]
  },
  {
   "cell_type": "markdown",
   "id": "61417a19",
   "metadata": {},
   "source": [
    "# Brute Force Method to Calculate The Best Path"
   ]
  },
  {
   "cell_type": "markdown",
   "id": "ccd36f66",
   "metadata": {},
   "source": [
    "Since the permutation function creates perm starting with 0 number and finishing with 7, the first perm going to be (0, 1, 2, 3, 4, 5, 6, 7). For the second perm, the last 2 digits will be replaced and the perm will be (0, 1, 2, 3, 4, 5, 7, 6). Since we did not choose any specific city to start, London city was automatically accepted as the first city. If we are not picking any specific city to start iterations since the problem is brute force it doesn't matter where we start. It will visit all possible candidates. "
   ]
  },
  {
   "cell_type": "code",
   "execution_count": 7,
   "id": "725b3460",
   "metadata": {},
   "outputs": [],
   "source": [
    "def minFunc(arrays):\n",
    "    try:\n",
    "        s = 0\n",
    "        count = len(arrays)\n",
    "        optimal = []\n",
    "        \n",
    "        v = []\n",
    "        for i in range(0,count):\n",
    "            v.append(i)\n",
    "        # We created a list to start create permutations based on v= (0, 1, 2, 3, 4, 5, 6, 7).\n",
    "        # Since it is brute force, randomness doesnt really matter. For that random function could be used.\n",
    "\n",
    "        minimum_node = maxsize \n",
    "        # random big number\n",
    "        calculate_perm =permutations(v) \n",
    "        # creats 40320 combination for 8 digit. It is represents all possible routes\n",
    "        for perm in calculate_perm: \n",
    "            #print(perm). It shows all permutations iterated one by one.\n",
    "            # perm is defining each permutation\n",
    "            cost_of_the_current_path = 0 \n",
    "            # toatal lenght of the path is 0. Later we will sum the lenghts\n",
    "            \n",
    "            first_city = s\n",
    "            # for the fist city we will choose the first integer of created permutation.\n",
    "            for variable_in_perm in perm:\n",
    "                cost_of_the_current_path += arrays.iloc[first_city,variable_in_perm] \n",
    "                # it will start to visit from first city, that means perm was teorical numbers.\n",
    "                # now it visits real arrays with distance var\n",
    "                first_city = variable_in_perm \n",
    "                # arrived city will become start point, variable_in_perm will be next one in perm\n",
    "            \n",
    "            cost_of_the_current_path += arrays.iloc[first_city,s] \n",
    "            # sum of the first paths lenghts\n",
    "\n",
    "            # update minimum\n",
    "            if cost_of_the_current_path<minimum_node:\n",
    "                # if path shorter than last one keep it\n",
    "                minimum_node= min(minimum_node, cost_of_the_current_path) \n",
    "                # shorter one will be kept\n",
    "                optimal = perm\n",
    "                optimal = optimal + (optimal[0],) \n",
    "                # path permutation was created, above one proves that it is the shortes\n",
    "\n",
    "        return (minimum_node, optimal)\n",
    "    except:\n",
    "        print(\"ERROR\")"
   ]
  },
  {
   "cell_type": "markdown",
   "id": "e8699cbb",
   "metadata": {},
   "source": [
    "# Calculate The Best Path For The \"Selected\" Starting City"
   ]
  },
  {
   "cell_type": "code",
   "execution_count": 8,
   "id": "6ccca649",
   "metadata": {},
   "outputs": [],
   "source": [
    "def selectedOnes(arrays, selected):\n",
    "    s = 0\n",
    "    count = len(arrays)\n",
    "    optimal = []\n",
    "    v = []\n",
    "    for i in range(0,count):\n",
    "        v.append(i)\n",
    "\n",
    "    minimum_node = maxsize\n",
    "    calculate_perm =permutations(v)\n",
    "    for perm in calculate_perm: \n",
    "        if perm[0] == selected: \n",
    "            #just visits the ones with First digit of created permutation is \"Selected\" start city\n",
    "            cost_of_the_current_path = 0 \n",
    "            # toatal lenght of the path is 0. Later we will sum the lenghts\n",
    "            \n",
    "            first_city = s\n",
    "            # for the fist city we will choose the first integer of created permutation.\n",
    "            for variable_in_perm in perm:\n",
    "                cost_of_the_current_path += arrays.iloc[first_city,variable_in_perm] \n",
    "                # it will start to visit from first city, that means perm was teorical numbers.\n",
    "                # now it visits real arrays with distance var\n",
    "                first_city = variable_in_perm \n",
    "                # arrived city will become start point, variable_in_perm will be next one in perm\n",
    "            \n",
    "            cost_of_the_current_path += arrays.iloc[first_city,s] \n",
    "            # sum of the first paths lenghts\n",
    "\n",
    "            # update minimum\n",
    "            if cost_of_the_current_path<minimum_node:\n",
    "                # if path shorter than last one keep it\n",
    "                minimum_node= min(minimum_node, cost_of_the_current_path) \n",
    "                # shorter one will be kept\n",
    "                optimal = perm\n",
    "                optimal = optimal + (optimal[0],) \n",
    "                # path permutation was created, above one proves that it is the shortes\n",
    "\n",
    "    return (minimum_node, optimal)"
   ]
  },
  {
   "cell_type": "markdown",
   "id": "f96a9059",
   "metadata": {},
   "source": [
    "# Optimal Tour and Lenght Outputs"
   ]
  },
  {
   "cell_type": "code",
   "execution_count": 11,
   "id": "763b1102",
   "metadata": {},
   "outputs": [
    {
     "name": "stdout",
     "output_type": "stream",
     "text": [
      "Optimal Tour :  595\n",
      "Route that has the optimal tour :  ['London', 'Sheffield', 'Leeds', 'Bradford', 'Manchester', 'Liverpool', 'Birmingham', 'Bristol', 'London']\n",
      "Enter the selected start city : Liverpool\n",
      "Optimal Tour that start from selected city :  631\n",
      "selected city Route that has the optimal tour :  ['Liverpool', 'Manchester', 'Bradford', 'Leeds', 'Sheffield', 'Birmingham', 'Bristol', 'London', 'Liverpool']\n"
     ]
    }
   ],
   "source": [
    "def Searchcities(cities, listedCities):\n",
    "    names = []\n",
    "    for i in listedCities: \n",
    "        # to list the city names from the created permutations\n",
    "        names.append(cities[i])\n",
    "\n",
    "    return names\n",
    "\n",
    "def findCityCount(cities):\n",
    "    selected = 0\n",
    "    n = str(input(\"Enter the selected start city : \"))\n",
    "    for city in cities:\n",
    "        if city!=n:\n",
    "            selected+=1\n",
    "        else:\n",
    "            break\n",
    "            \n",
    "    if selected>=len(cities):\n",
    "        findCityCount(cities)\n",
    "    else:\n",
    "        return selected\n",
    "\n",
    "minCosts = minFunc(df2) \n",
    "# minCost's first data minimum_node. second is oprimal road by numbers\n",
    "print(\"Optimal Tour : \", minCosts[0]) \n",
    "# minimum node\n",
    "print(\"Route that has the optimal tour : \",Searchcities(cities,  minCosts[1]))\n",
    "#show cities by using numbers\n",
    "\n",
    "selected=findCityCount(cities)      \n",
    "selectedRoute = selectedOnes(df2, selected) \n",
    "# best path with selected start point\n",
    "print(\"Optimal Tour that start from selected city : \", selectedRoute[0])\n",
    "# minimum node/ min value path\n",
    "print(\"selected city Route that has the optimal tour : \", Searchcities(cities, selectedRoute[1])) \n",
    "# optimal road"
   ]
  },
  {
   "cell_type": "code",
   "execution_count": null,
   "id": "2d5221dd",
   "metadata": {},
   "outputs": [],
   "source": []
  }
 ],
 "metadata": {
  "kernelspec": {
   "display_name": "Python 3 (ipykernel)",
   "language": "python",
   "name": "python3"
  },
  "language_info": {
   "codemirror_mode": {
    "name": "ipython",
    "version": 3
   },
   "file_extension": ".py",
   "mimetype": "text/x-python",
   "name": "python",
   "nbconvert_exporter": "python",
   "pygments_lexer": "ipython3",
   "version": "3.9.12"
  }
 },
 "nbformat": 4,
 "nbformat_minor": 5
}
